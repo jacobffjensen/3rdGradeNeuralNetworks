{
 "cells": [
  {
   "cell_type": "markdown",
   "metadata": {},
   "source": [
    "This notebook is intended to be used as a simple example of pytorch for an upcoming 3rd grade presenation.   The code will build a simple dense neural network in order to classify images from the CIFAR 10 dataset.\n",
    "\n",
    "To make this notebook work, please download anaconda on your machine: https://www.anaconda.com/distribution/\n",
    "\n",
    "Then create a virtual environment with pytorch by using the following commands: <i>\n",
    "    \n",
    "    conda create --name CIFAR10 python=3.7 \n",
    "    python -m ipykernel install --user --name CIFAR10 --display-name \"CIFAR10 - Python (3.7)\" \n",
    "    conda activate CIFAR10 \n",
    "    conda install pytorch torchvision cudatoolkit=10.0 -c pytorch \n",
    "    conda install matplotlib jupyter \n",
    "    git clone https://github.com/jacobffjensen/MiamiData2019.git \n",
    "    jupyter notebook"
   ]
  },
  {
   "cell_type": "code",
   "execution_count": 36,
   "metadata": {},
   "outputs": [],
   "source": [
    "import torch\n",
    "import torch.nn as nn\n",
    "import torch.optim as optim\n",
    "import torch.nn.functional as F\n",
    "from torchvision import datasets, transforms\n",
    "import matplotlib.pyplot as plt\n",
    "import numpy as np\n",
    "%matplotlib inline   "
   ]
  },
  {
   "cell_type": "code",
   "execution_count": 17,
   "metadata": {},
   "outputs": [],
   "source": [
    "# Build a simple 2 layer linear model for classifying digits:\n",
    "#   input - 32x32 grayscale photo\n",
    "#   output - a prediction of which type of object is detected in the image\n",
    "class MyModel(nn.Module):\n",
    "    def __init__(self):\n",
    "        super().__init__()\n",
    "        self.L1 = nn.Linear(32*32*3,100)\n",
    "        self.L2 = nn.Linear(100,10)\n",
    "        self.D1 = nn.Dropout(0.2)\n",
    "    def forward(self,x):\n",
    "        x = x.view(x.shape[0],-1)\n",
    "        x = F.relu(self.L1(x))\n",
    "        x = self.D1(x)\n",
    "        x = self.L2(x)\n",
    "        x = F.log_softmax(x,dim=1)\n",
    "        return x"
   ]
  },
  {
   "cell_type": "code",
   "execution_count": 24,
   "metadata": {},
   "outputs": [
    {
     "name": "stdout",
     "output_type": "stream",
     "text": [
      "Files already downloaded and verified\n",
      "Files already downloaded and verified\n",
      "Total Train Dataset Size 50048\n",
      "Total Test Dataset Size 10048\n"
     ]
    }
   ],
   "source": [
    "# Select how many photos to train in one go\n",
    "batch_size=64\n",
    "\n",
    "# Modify each photo before passing into neural network\n",
    "transform = transforms.Compose([\n",
    "                                #transforms.Grayscale(num_output_channels=1),\n",
    "                                transforms.ToTensor(),\n",
    "                                transforms.Normalize((0.5,), (0.5,))])\n",
    "\n",
    "# Download photos and create data loaders for both testing and training sets\n",
    "trainset = datasets.CIFAR10('~/.pytorch/CIFAR10_data/', download=True, train=True, transform=transform)\n",
    "trainloader = torch.utils.data.DataLoader(trainset, batch_size=batch_size, shuffle=True)\n",
    "testset = datasets.CIFAR10('~/.pytorch/CIFAR10_data/', download=True, train=False, transform=transform)\n",
    "testloader = torch.utils.data.DataLoader(testset, batch_size=batch_size)\n",
    "\n",
    "# Name of each of the classes\n",
    "classes = ('plane', 'car', 'bird', 'cat', 'deer', 'dog', 'frog', 'horse', 'ship', 'truck')\n",
    "\n",
    "print (\"Total Train Dataset Size\",len(trainloader)*batch_size)\n",
    "print (\"Total Test Dataset Size\",len(testloader)*batch_size)"
   ]
  },
  {
   "cell_type": "code",
   "execution_count": 19,
   "metadata": {},
   "outputs": [
    {
     "name": "stdout",
     "output_type": "stream",
     "text": [
      "torch.Size([64, 1, 32, 32])\n"
     ]
    }
   ],
   "source": [
    "# Take a look at the data more closely\n",
    "images,labels = next(iter(testloader))\n",
    "print (images.shape)"
   ]
  },
  {
   "cell_type": "code",
   "execution_count": 20,
   "metadata": {},
   "outputs": [],
   "source": [
    "def testAccuracy(model, testloader, criterion, printResult=False):\n",
    "    tLossTotal = 0\n",
    "    acc = 0\n",
    "    numCorrect = 0\n",
    "    \n",
    "    model.eval()\n",
    "    with torch.no_grad():\n",
    "        for images, labels in testloader:\n",
    "            pred = model(images)\n",
    "            tLoss = criterion(pred,labels)\n",
    "            tLossTotal += tLoss.item()            \n",
    "            ps = torch.exp(pred)\n",
    "            top_p, top_class = ps.topk(1, dim=1)\n",
    "            numCorrect += torch.sum(top_class.squeeze() == labels).item()\n",
    "    \n",
    "    acc = numCorrect / len(testloader) / batch_size\n",
    "    tLoss = tLossTotal / len(testloader)\n",
    "\n",
    "    if printResult:\n",
    "        print (f\"Testing Loss {tLoss:.3f} Accuracy: {acc*100:.2f}%\")\n",
    "    \n",
    "    model.train()\n",
    "    return tLoss, acc"
   ]
  },
  {
   "cell_type": "code",
   "execution_count": 21,
   "metadata": {},
   "outputs": [
    {
     "name": "stdout",
     "output_type": "stream",
     "text": [
      "Epoch 1 / 4: Train Loss: 1.95, Test Loss 1.80, Test Accuracy: 36.09%\n",
      "Epoch 2 / 4: Train Loss: 1.80, Test Loss 1.73, Test Accuracy: 39.07%\n",
      "Epoch 3 / 4: Train Loss: 1.74, Test Loss 1.69, Test Accuracy: 39.79%\n",
      "Epoch 4 / 4: Train Loss: 1.70, Test Loss 1.68, Test Accuracy: 40.35%\n"
     ]
    }
   ],
   "source": [
    "# Create an instance of the model\n",
    "model = MyModel()\n",
    "\n",
    "# Select an optimizer and loss function (use cross entropy == softmax + NLLLoss())\n",
    "optimzer = optim.SGD(model.parameters(),lr=0.01, momentum=0.9)\n",
    "criterion = nn.NLLLoss()\n",
    "\n",
    "# Train the model\n",
    "numEpochs = 10\n",
    "model.train()\n",
    "for e in range(numEpochs):\n",
    "    trainLoss=0\n",
    "    for images, labels in trainloader:        \n",
    "        pred = model(images)\n",
    "        loss = criterion(pred,labels)\n",
    "        optimzer.zero_grad()\n",
    "        loss.backward()\n",
    "        optimzer.step()    \n",
    "        \n",
    "        # Track training loss (avg loss across the batch) as we train\n",
    "        trainLoss += loss.item()\n",
    "    \n",
    "    # Check the training loss and testing loss/accuarcy\n",
    "    trainLoss = trainLoss / len(trainloader)\n",
    "    testLoss, acc = testAccuracy(model, testloader, criterion, False)    \n",
    "    print (f\"Epoch {e+1} / {numEpochs}: Train Loss: {trainLoss:.2f}, Test Loss {testLoss:.2f}, Test Accuracy: {acc*100:.2f}%\")"
   ]
  },
  {
   "cell_type": "code",
   "execution_count": 40,
   "metadata": {},
   "outputs": [],
   "source": [
    "# Define a function that prints out the picture and the model's prediction\n",
    "def displayImage(img, label):\n",
    "    fig, (ax1) = plt.subplots(figsize=(2,2), ncols=1)\n",
    "    ax1.imshow(img.resize_(3, 32, 32).numpy().squeeze())\n",
    "    ax1.axis('off')\n",
    "    plt.tight_layout()\n",
    "    plt.show()"
   ]
  },
  {
   "cell_type": "code",
   "execution_count": 41,
   "metadata": {},
   "outputs": [
    {
     "data": {
      "image/png": "[encoded data removed]",
      "text/plain": [
       "<Figure size 144x144 with 1 Axes>"
      ]
     },
     "metadata": {
      "needs_background": "light"
     },
     "output_type": "display_data"
    },
    {
     "name": "stdout",
     "output_type": "stream",
     "text": [
      "Model predicts a frog with 22% probability.  Ground truth: cat\n"
     ]
    },
    {
     "data": {
      "image/png": "[encoded data removed]",
      "text/plain": [
       "<Figure size 144x144 with 1 Axes>"
      ]
     },
     "metadata": {
      "needs_background": "light"
     },
     "output_type": "display_data"
    },
    {
     "name": "stdout",
     "output_type": "stream",
     "text": [
      "Model predicts a ship with 39% probability.  Ground truth: ship\n"
     ]
    },
    {
     "data": {
      "image/png": "[encoded data removed]",
      "text/plain": [
       "<Figure size 144x144 with 1 Axes>"
      ]
     },
     "metadata": {
      "needs_background": "light"
     },
     "output_type": "display_data"
    },
    {
     "name": "stdout",
     "output_type": "stream",
     "text": [
      "Model predicts a ship with 44% probability.  Ground truth: ship\n"
     ]
    },
    {
     "data": {
      "image/png": "[encoded data removed]",
      "text/plain": [
       "<Figure size 144x144 with 1 Axes>"
      ]
     },
     "metadata": {
      "needs_background": "light"
     },
     "output_type": "display_data"
    },
    {
     "name": "stdout",
     "output_type": "stream",
     "text": [
      "Model predicts a ship with 42% probability.  Ground truth: plane\n"
     ]
    },
    {
     "data": {
      "image/png": "[encoded data removed]",
      "text/plain": [
       "<Figure size 144x144 with 1 Axes>"
      ]
     },
     "metadata": {
      "needs_background": "light"
     },
     "output_type": "display_data"
    },
    {
     "name": "stdout",
     "output_type": "stream",
     "text": [
      "Model predicts a deer with 28% probability.  Ground truth: frog\n"
     ]
    },
    {
     "data": {
      "image/png": "[encoded data removed]",
      "text/plain": [
       "<Figure size 144x144 with 1 Axes>"
      ]
     },
     "metadata": {
      "needs_background": "light"
     },
     "output_type": "display_data"
    },
    {
     "name": "stdout",
     "output_type": "stream",
     "text": [
      "Model predicts a frog with 31% probability.  Ground truth: frog\n"
     ]
    },
    {
     "data": {
      "image/png": "[encoded data removed]",
      "text/plain": [
       "<Figure size 144x144 with 1 Axes>"
      ]
     },
     "metadata": {
      "needs_background": "light"
     },
     "output_type": "display_data"
    },
    {
     "name": "stdout",
     "output_type": "stream",
     "text": [
      "Model predicts a ship with 28% probability.  Ground truth: car\n"
     ]
    },
    {
     "data": {
      "image/png": "[encoded data removed]",
      "text/plain": [
       "<Figure size 144x144 with 1 Axes>"
      ]
     },
     "metadata": {
      "needs_background": "light"
     },
     "output_type": "display_data"
    },
    {
     "name": "stdout",
     "output_type": "stream",
     "text": [
      "Model predicts a deer with 27% probability.  Ground truth: frog\n"
     ]
    },
    {
     "data": {
      "image/png": "[encoded data removed]",
      "text/plain": [
       "<Figure size 144x144 with 1 Axes>"
      ]
     },
     "metadata": {
      "needs_background": "light"
     },
     "output_type": "display_data"
    },
    {
     "name": "stdout",
     "output_type": "stream",
     "text": [
      "Model predicts a cat with 21% probability.  Ground truth: cat\n"
     ]
    },
    {
     "data": {
      "image/png": "[encoded data removed]",
      "text/plain": [
       "<Figure size 144x144 with 1 Axes>"
      ]
     },
     "metadata": {
      "needs_background": "light"
     },
     "output_type": "display_data"
    },
    {
     "name": "stdout",
     "output_type": "stream",
     "text": [
      "Model predicts a car with 27% probability.  Ground truth: car\n"
     ]
    }
   ],
   "source": [
    "# Get a single image\n",
    "imgNum=9\n",
    "images, labels = next(iter(testloader))\n",
    "\n",
    "for imgNum in range(10):\n",
    "    img = images[imgNum]\n",
    "    # Do a forward pass\n",
    "    model.eval()\n",
    "    predLog = model(img)\n",
    "    \n",
    "    # Determine class prediction and print result\n",
    "    predProb = torch.exp(predLog)\n",
    "    prob, predClass = predProb.topk(1, dim=1)\n",
    "    prob = prob.data.squeeze().tolist()\n",
    "    predClass = predClass.squeeze().tolist()\n",
    "    \n",
    "    displayImage(img,labels[imgNum].tolist())\n",
    "    print (f\"Model predicts a {classes[predClass]} with {prob*100:.0f}% probability.  Ground truth: {classes[labels[imgNum]]}\")"
   ]
  }
 ],
 "metadata": {
  "kernelspec": {
   "display_name": "Python (PY37)",
   "language": "python",
   "name": "py37"
  },
  "language_info": {
   "codemirror_mode": {
    "name": "ipython",
    "version": 3
   },
   "file_extension": ".py",
   "mimetype": "text/x-python",
   "name": "python",
   "nbconvert_exporter": "python",
   "pygments_lexer": "ipython3",
   "version": "3.7.4"
  }
 },
 "nbformat": 4,
 "nbformat_minor": 2
}
